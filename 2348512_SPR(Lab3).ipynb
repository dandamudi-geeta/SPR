{
  "nbformat": 4,
  "nbformat_minor": 0,
  "metadata": {
    "colab": {
      "provenance": [],
      "authorship_tag": "ABX9TyNtr2wdh8U6wTaJJovYpeCK",
      "include_colab_link": true
    },
    "kernelspec": {
      "name": "python3",
      "display_name": "Python 3"
    },
    "language_info": {
      "name": "python"
    }
  },
  "cells": [
    {
      "cell_type": "markdown",
      "metadata": {
        "id": "view-in-github",
        "colab_type": "text"
      },
      "source": [
        "<a href=\"https://colab.research.google.com/github/dandamudi-geeta/SPR/blob/main/2348512_SPR(Lab3).ipynb\" target=\"_parent\"><img src=\"https://colab.research.google.com/assets/colab-badge.svg\" alt=\"Open In Colab\"/></a>"
      ]
    },
    {
      "cell_type": "code",
      "execution_count": 1,
      "metadata": {
        "colab": {
          "base_uri": "https://localhost:8080/"
        },
        "id": "CfYi2NVxpOA8",
        "outputId": "b43b7b2e-92a9-49e3-ffc1-6e20938738e8"
      },
      "outputs": [
        {
          "output_type": "stream",
          "name": "stdout",
          "text": [
            "Collecting SpeechRecognition\n",
            "  Downloading SpeechRecognition-3.10.4-py2.py3-none-any.whl.metadata (28 kB)\n",
            "Requirement already satisfied: requests>=2.26.0 in /usr/local/lib/python3.10/dist-packages (from SpeechRecognition) (2.32.3)\n",
            "Requirement already satisfied: typing-extensions in /usr/local/lib/python3.10/dist-packages (from SpeechRecognition) (4.12.2)\n",
            "Requirement already satisfied: charset-normalizer<4,>=2 in /usr/local/lib/python3.10/dist-packages (from requests>=2.26.0->SpeechRecognition) (3.3.2)\n",
            "Requirement already satisfied: idna<4,>=2.5 in /usr/local/lib/python3.10/dist-packages (from requests>=2.26.0->SpeechRecognition) (3.10)\n",
            "Requirement already satisfied: urllib3<3,>=1.21.1 in /usr/local/lib/python3.10/dist-packages (from requests>=2.26.0->SpeechRecognition) (2.2.3)\n",
            "Requirement already satisfied: certifi>=2017.4.17 in /usr/local/lib/python3.10/dist-packages (from requests>=2.26.0->SpeechRecognition) (2024.8.30)\n",
            "Downloading SpeechRecognition-3.10.4-py2.py3-none-any.whl (32.8 MB)\n",
            "\u001b[2K   \u001b[90m━━━━━━━━━━━━━━━━━━━━━━━━━━━━━━━━━━━━━━━━\u001b[0m \u001b[32m32.8/32.8 MB\u001b[0m \u001b[31m16.3 MB/s\u001b[0m eta \u001b[36m0:00:00\u001b[0m\n",
            "\u001b[?25hInstalling collected packages: SpeechRecognition\n",
            "Successfully installed SpeechRecognition-3.10.4\n"
          ]
        }
      ],
      "source": [
        "!pip install SpeechRecognition"
      ]
    },
    {
      "cell_type": "code",
      "source": [
        "pip install pydub"
      ],
      "metadata": {
        "colab": {
          "base_uri": "https://localhost:8080/"
        },
        "id": "4xus7c4-pPAw",
        "outputId": "e58fc601-a007-4950-c93b-bddbb31f47d7"
      },
      "execution_count": 5,
      "outputs": [
        {
          "output_type": "stream",
          "name": "stdout",
          "text": [
            "Collecting pydub\n",
            "  Downloading pydub-0.25.1-py2.py3-none-any.whl.metadata (1.4 kB)\n",
            "Downloading pydub-0.25.1-py2.py3-none-any.whl (32 kB)\n",
            "Installing collected packages: pydub\n",
            "Successfully installed pydub-0.25.1\n"
          ]
        }
      ]
    },
    {
      "cell_type": "code",
      "source": [
        "import speech_recognition as sr\n",
        "import tkinter as tk\n",
        "from tkinter import filedialog"
      ],
      "metadata": {
        "id": "N2M7eTXDpThE"
      },
      "execution_count": 2,
      "outputs": []
    },
    {
      "cell_type": "code",
      "source": [
        "import os\n",
        "import speech_recognition as sr\n",
        "from pydub import AudioSegment"
      ],
      "metadata": {
        "id": "Sa0I4hqSpTkZ"
      },
      "execution_count": 6,
      "outputs": []
    },
    {
      "cell_type": "code",
      "source": [
        "def prepare_voice_file(path: str) -> str:\n",
        "    \"\"\"\n",
        "    Converts the input audio file to WAV format if necessary and returns the path to the WAV file.\n",
        "    \"\"\"\n",
        "    if os.path.splitext(path)[1] == '.wav':\n",
        "        return path\n",
        "    elif os.path.splitext(path)[1] in ('.mp3', '.m4a', '.ogg', '.flac'):\n",
        "        audio_file = AudioSegment.from_file(\n",
        "            path, format=os.path.splitext(path)[1][1:])\n",
        "        wav_file = os.path.splitext(path)[0] + '.wav'\n",
        "        audio_file.export(wav_file, format='wav')\n",
        "        return wav_file\n",
        "    else:\n",
        "        raise ValueError(\n",
        "            f'Unsupported audio format: {format(os.path.splitext(path)[1])}')\n"
      ],
      "metadata": {
        "id": "MXUzuA90pTuc"
      },
      "execution_count": 13,
      "outputs": []
    },
    {
      "cell_type": "code",
      "source": [
        "def transcribe_audio(audio_data, language) -> str:\n",
        "    \"\"\"\n",
        "    Transcribes audio data to text using Google's speech recognition API.\n",
        "    \"\"\"\n",
        "    r = sr.Recognizer()\n",
        "    text = r.recognize_google(audio_data, language=language)\n",
        "    return text\n"
      ],
      "metadata": {
        "id": "YpEiOzrMpTx_"
      },
      "execution_count": 14,
      "outputs": []
    },
    {
      "cell_type": "code",
      "source": [
        "def write_transcription_to_file(text, output_file) -> None:\n",
        "    \"\"\"\n",
        "    Writes the transcribed text to the output file.\n",
        "    \"\"\"\n",
        "    with open(output_file, 'w') as f:\n",
        "        f.write(text)\n"
      ],
      "metadata": {
        "id": "FkFslvtRrH3_"
      },
      "execution_count": 15,
      "outputs": []
    },
    {
      "cell_type": "code",
      "source": [
        "def speech_to_text(input_path: str, output_path: str, language: str) -> None:\n",
        "    \"\"\"\n",
        "    Transcribes an audio file at the given path to text and writes the transcribed text to the output file.\n",
        "    \"\"\"\n",
        "    wav_file = prepare_voice_file(input_path)\n",
        "    with sr.AudioFile(wav_file) as source:\n",
        "        audio_data = sr.Recognizer().record(source)\n",
        "        text = transcribe_audio(audio_data, language)\n",
        "        write_transcription_to_file(text, output_path)\n",
        "        print('Transcription:')\n",
        "        print(text)"
      ],
      "metadata": {
        "id": "R9UrmuY4rH6e"
      },
      "execution_count": 32,
      "outputs": []
    },
    {
      "cell_type": "code",
      "source": [
        "if __name__ == '__main__':\n",
        "    print('Please enter the path to an audio file (WAV, MP3, M4A, OGG, or FLAC):')\n",
        "    input_path = input().strip()\n",
        "    if not os.path.isfile(input_path):\n",
        "        print('Error: File not found.')\n",
        "        exit(1)\n",
        "    else:\n",
        "        print('Please enter the path to the output file:')\n",
        "        output_path = input().strip()\n",
        "        print('Please enter the language code (e.g. en-US):')\n",
        "        language = input().strip()\n",
        "        try:\n",
        "            speech_to_text(input_path, output_path, language)\n",
        "        except Exception as e:\n",
        "            print('Error:', e)\n",
        "            exit(1)"
      ],
      "metadata": {
        "colab": {
          "base_uri": "https://localhost:8080/"
        },
        "id": "bek3ZQWurIBk",
        "outputId": "ef10166d-71df-4367-aed5-2519bfcea8f4"
      },
      "execution_count": 35,
      "outputs": [
        {
          "output_type": "stream",
          "name": "stdout",
          "text": [
            "Please enter the path to an audio file (WAV, MP3, M4A, OGG, or FLAC):\n",
            "/content/16-122828-0002.wav\n",
            "Please enter the path to the output file:\n",
            "/content/16-122828-0002.wav\n",
            "Please enter the language code (e.g. en-US):\n",
            "en\n",
            "Transcription:\n",
            "I believe you are just talking nonsense\n"
          ]
        }
      ]
    },
    {
      "cell_type": "code",
      "source": [],
      "metadata": {
        "id": "ZbTS-MO5rIJs"
      },
      "execution_count": null,
      "outputs": []
    }
  ]
}