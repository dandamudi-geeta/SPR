{
  "nbformat": 4,
  "nbformat_minor": 0,
  "metadata": {
    "colab": {
      "provenance": [],
      "authorship_tag": "ABX9TyPLJxxbMx8nfZOiLHfrGMHP",
      "include_colab_link": true
    },
    "kernelspec": {
      "name": "python3",
      "display_name": "Python 3"
    },
    "language_info": {
      "name": "python"
    }
  },
  "cells": [
    {
      "cell_type": "markdown",
      "metadata": {
        "id": "view-in-github",
        "colab_type": "text"
      },
      "source": [
        "<a href=\"https://colab.research.google.com/github/dandamudi-geeta/SPR/blob/main/2348512_SPR(Lab7).ipynb\" target=\"_parent\"><img src=\"https://colab.research.google.com/assets/colab-badge.svg\" alt=\"Open In Colab\"/></a>"
      ]
    },
    {
      "cell_type": "markdown",
      "source": [
        "**Part (a): Representing HMM Parameters**"
      ],
      "metadata": {
        "id": "C2oizOOPUkUK"
      }
    },
    {
      "cell_type": "code",
      "execution_count": 19,
      "metadata": {
        "id": "GkZPwqHkUjDv"
      },
      "outputs": [],
      "source": [
        "import numpy as np"
      ]
    },
    {
      "cell_type": "code",
      "source": [
        "# Initial probability\n",
        "initial_probabilities = {'/s/': 1.0, '/p/': 0.0, '/i:/': 0.0, '/tf/': 0.0}"
      ],
      "metadata": {
        "id": "CgUO3LaSUrw3"
      },
      "execution_count": 38,
      "outputs": []
    },
    {
      "cell_type": "code",
      "source": [
        "# Transition probabilities\n",
        "transition_probabilities = {\n",
        "    '/s/': {'/s/': 0.1, '/p/': 0.8, '/i:/': 0.1, '/tf/': 0.0},\n",
        "    '/p/': {'/s/': 0.0, '/p/': 0.1, '/i:/': 0.8, '/tf/': 0.1},\n",
        "    '/i:/': {'/s/': 0.0, '/p/': 0.0, '/i:/': 0.2, '/tf/': 0.8},\n",
        "    '/tf/': {'/s/': 0.2, '/p/': 0.0, '/i:/': 0.0, '/tf/': 0.8}\n",
        "}\n"
      ],
      "metadata": {
        "id": "k9sSvawHUv4O"
      },
      "execution_count": 39,
      "outputs": []
    },
    {
      "cell_type": "code",
      "source": [
        "# Emission probabilities\n",
        "emission_probabilities = {\n",
        "    '/s/': {'Energy': 0.7, 'Pitch': 0.2, 'Duration': 0.1},\n",
        "    '/p/': {'Energy': 0.5, 'Pitch': 0.3, 'Duration': 0.2},\n",
        "    '/i:/': {'Energy': 0.3, 'Pitch': 0.5, 'Duration': 0.2},\n",
        "    '/tf/': {'Energy': 0.4, 'Pitch': 0.4, 'Duration': 0.2}\n",
        "}"
      ],
      "metadata": {
        "id": "8J3g--jUUxVI"
      },
      "execution_count": 40,
      "outputs": []
    },
    {
      "cell_type": "markdown",
      "source": [
        "**Function to Display HMM Parameters**"
      ],
      "metadata": {
        "id": "6fj8z_P4XcEY"
      }
    },
    {
      "cell_type": "code",
      "source": [
        "def display_hmm_parameters():\n",
        "    print(\"Initial Probabilities:\")\n",
        "    for state, prob in initial_probabilities.items():\n",
        "        print(f\"  {state}: {prob}\")\n",
        "\n",
        "    print(\"\\nTransition Probabilities:\")\n",
        "    for from_state, transitions in transition_probabilities.items():\n",
        "        print(f\"  {from_state}: {transitions}\")\n",
        "\n",
        "    print(\"\\nEmission Probabilities:\")\n",
        "    for state, emissions in emission_probabilities.items():\n",
        "        print(f\"  {state}: {emissions}\")\n",
        "\n",
        "display_hmm_parameters()\n"
      ],
      "metadata": {
        "colab": {
          "base_uri": "https://localhost:8080/"
        },
        "id": "dHfo3BRZXddI",
        "outputId": "9f27210b-524b-4471-9f7c-55553aa88069"
      },
      "execution_count": 41,
      "outputs": [
        {
          "output_type": "stream",
          "name": "stdout",
          "text": [
            "Initial Probabilities:\n",
            "  /s/: 1.0\n",
            "  /p/: 0.0\n",
            "  /i:/: 0.0\n",
            "  /tf/: 0.0\n",
            "\n",
            "Transition Probabilities:\n",
            "  /s/: {'/s/': 0.1, '/p/': 0.8, '/i:/': 0.1, '/tf/': 0.0}\n",
            "  /p/: {'/s/': 0.0, '/p/': 0.1, '/i:/': 0.8, '/tf/': 0.1}\n",
            "  /i:/: {'/s/': 0.0, '/p/': 0.0, '/i:/': 0.2, '/tf/': 0.8}\n",
            "  /tf/: {'/s/': 0.2, '/p/': 0.0, '/i:/': 0.0, '/tf/': 0.8}\n",
            "\n",
            "Emission Probabilities:\n",
            "  /s/: {'Energy': 0.7, 'Pitch': 0.2, 'Duration': 0.1}\n",
            "  /p/: {'Energy': 0.5, 'Pitch': 0.3, 'Duration': 0.2}\n",
            "  /i:/: {'Energy': 0.3, 'Pitch': 0.5, 'Duration': 0.2}\n",
            "  /tf/: {'Energy': 0.4, 'Pitch': 0.4, 'Duration': 0.2}\n"
          ]
        }
      ]
    },
    {
      "cell_type": "code",
      "source": [
        "def generate_sequence(length=4):\n",
        "    states = list(initial_probabilities.keys())\n",
        "    current_state = '/s/'  # Start with initial state\n",
        "    phoneme_sequence = [current_state]\n",
        "    observation_sequence = []\n",
        "\n",
        "    for _ in range(length - 1):\n",
        "        # Transition to next state\n",
        "        next_state = np.random.choice(\n",
        "            states, p=[transition_probabilities[current_state][s] for s in states]\n",
        "        )\n",
        "        phoneme_sequence.append(next_state)\n",
        "\n",
        "        # Emit observation\n",
        "        observations = list(emission_probabilities[next_state].keys())\n",
        "        observation = np.random.choice(\n",
        "            observations, p=[emission_probabilities[next_state][obs] for obs in observations]\n",
        "        )\n",
        "        observation_sequence.append(observation)\n",
        "\n",
        "        current_state = next_state\n",
        "\n",
        "    return phoneme_sequence, observation_sequence\n",
        "\n",
        "\n"
      ],
      "metadata": {
        "id": "llA9GI0CXdfD"
      },
      "execution_count": 42,
      "outputs": []
    },
    {
      "cell_type": "code",
      "source": [
        "# Generate and display a sequence\n",
        "phonemes, observations = generate_sequence()\n",
        "print(\"\\nGenerated Phoneme Sequence:\", phonemes)\n",
        "print(\"Generated Observation Sequence:\", observations)\n"
      ],
      "metadata": {
        "colab": {
          "base_uri": "https://localhost:8080/"
        },
        "id": "wxA0W8rVXdig",
        "outputId": "01e644b8-7e35-48c0-ea90-1097f664d33b"
      },
      "execution_count": 43,
      "outputs": [
        {
          "output_type": "stream",
          "name": "stdout",
          "text": [
            "\n",
            "Generated Phoneme Sequence: ['/s/', '/p/', '/i:/', '/tf/']\n",
            "Generated Observation Sequence: ['Pitch', 'Pitch', 'Pitch']\n"
          ]
        }
      ]
    },
    {
      "cell_type": "markdown",
      "source": [
        "Inference"
      ],
      "metadata": {
        "id": "7RdEipmOZM3f"
      }
    },
    {
      "cell_type": "code",
      "source": [
        "def infer_hmm(phoneme_sequence, observation_sequence):\n",
        "    print(\"\\nInference:\")\n",
        "    print(\"  Phoneme sequence aligns with the expected transitions based on HMM.\")\n",
        "    print(\"  Observations correspond to the emission probabilities of the respective phonemes.\")\n",
        "\n",
        "infer_hmm(phonemes, observations)\n"
      ],
      "metadata": {
        "colab": {
          "base_uri": "https://localhost:8080/"
        },
        "id": "UjkY26nIYQ8L",
        "outputId": "1c83ff50-5f49-421a-cf0c-9ce53317d671"
      },
      "execution_count": 44,
      "outputs": [
        {
          "output_type": "stream",
          "name": "stdout",
          "text": [
            "\n",
            "Inference:\n",
            "  Phoneme sequence aligns with the expected transitions based on HMM.\n",
            "  Observations correspond to the emission probabilities of the respective phonemes.\n"
          ]
        }
      ]
    }
  ]
}