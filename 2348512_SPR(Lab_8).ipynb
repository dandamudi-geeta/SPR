{
  "nbformat": 4,
  "nbformat_minor": 0,
  "metadata": {
    "colab": {
      "provenance": [],
      "authorship_tag": "ABX9TyOy4MvKdfy23Mxkr34i7ehP",
      "include_colab_link": true
    },
    "kernelspec": {
      "name": "python3",
      "display_name": "Python 3"
    },
    "language_info": {
      "name": "python"
    }
  },
  "cells": [
    {
      "cell_type": "markdown",
      "metadata": {
        "id": "view-in-github",
        "colab_type": "text"
      },
      "source": [
        "<a href=\"https://colab.research.google.com/github/dandamudi-geeta/SPR/blob/main/2348512_SPR(Lab_8).ipynb\" target=\"_parent\"><img src=\"https://colab.research.google.com/assets/colab-badge.svg\" alt=\"Open In Colab\"/></a>"
      ]
    },
    {
      "cell_type": "code",
      "source": [
        "import numpy as np"
      ],
      "metadata": {
        "id": "QS56iwOHocpA"
      },
      "execution_count": 2,
      "outputs": []
    },
    {
      "cell_type": "code",
      "source": [
        "import numpy as np\n",
        "\n",
        "def viterbi(observations, states, start_prob, trans_prob, emit_prob):\n",
        "    # Number of states and observations\n",
        "    num_states = len(states)\n",
        "    num_observations = len(observations)\n",
        "\n",
        "    # Initialize the Viterbi table and backpointer table\n",
        "    viterbi_table = np.zeros((num_observations, num_states))\n",
        "    backpointer = np.zeros((num_observations, num_states), dtype=int)\n",
        "\n",
        "    # Step 1: Initialize the first column of the Viterbi table\n",
        "    for s in range(num_states):\n",
        "        viterbi_table[0][s] = start_prob[s] * emit_prob[s][observations[0]]\n",
        "        backpointer[0][s] = 0\n",
        "\n",
        "    # Step 2: Recursion through the observations\n",
        "    for t in range(1, num_observations):\n",
        "        for s in range(num_states):\n",
        "            max_prob = float('-inf')\n",
        "            max_state = 0\n",
        "            for prev_s in range(num_states):\n",
        "                prob = viterbi_table[t - 1][prev_s] * trans_prob[prev_s][s] * emit_prob[s][observations[t]]\n",
        "                if prob > max_prob:\n",
        "                    max_prob = prob\n",
        "                    max_state = prev_s\n",
        "            viterbi_table[t][s] = max_prob\n",
        "            backpointer[t][s] = max_state\n",
        "\n",
        "    # Step 3: Backtrack to find the most probable path\n",
        "    best_path_prob = float('-inf')\n",
        "    best_last_state = 0\n",
        "    for s in range(num_states):\n",
        "        if viterbi_table[-1][s] > best_path_prob:\n",
        "            best_path_prob = viterbi_table[-1][s]\n",
        "            best_last_state = s\n",
        "\n",
        "    # Reconstruct the most likely sequence of states\n",
        "    best_path = [0] * num_observations\n",
        "    best_path[-1] = best_last_state\n",
        "\n",
        "    for t in range(num_observations - 2, -1, -1):\n",
        "        best_path[t] = backpointer[t + 1][best_path[t + 1]]\n",
        "\n",
        "    # Convert state indices to phonemes\n",
        "    best_phoneme_sequence = [states[state] for state in best_path]\n",
        "\n",
        "    return best_phoneme_sequence, best_path_prob\n"
      ],
      "metadata": {
        "id": "fT7yJKSdqgyr"
      },
      "execution_count": 22,
      "outputs": []
    },
    {
      "cell_type": "code",
      "source": [
        "# Define the states, observations, probabilities, and matrices\n",
        "states = ['h', 'e', 'l', 'o']  # Phonemes\n",
        "observations = [0, 1, 2, 3]    # Indices for the feature vectors O1, O2, O3, O4"
      ],
      "metadata": {
        "id": "Iu2qemFUqkeC"
      },
      "execution_count": 23,
      "outputs": []
    },
    {
      "cell_type": "code",
      "source": [
        "# Initial probabilities\n",
        "start_prob = [1, 0, 0, 0]  # P(S1 (/h/))=1, P(S2 (/e/))=0.0, etc."
      ],
      "metadata": {
        "id": "EuG_p6_dqmxA"
      },
      "execution_count": 24,
      "outputs": []
    },
    {
      "cell_type": "code",
      "source": [
        "# Transition probability matrix\n",
        "trans_prob = [\n",
        "    [0.0, 0.7, 0.3, 0.0],  # from S1 (/h/)\n",
        "    [0.0, 0.2, 0.6, 0.2],  # from S2 (/e/)\n",
        "    [0.0, 0.0, 0.3, 0.7],  # from S3 (/l/)\n",
        "    [0.0, 0.0, 0.1, 0.9]   # from S4 (/o/)\n",
        "]"
      ],
      "metadata": {
        "id": "GeqMGh4jqrbo"
      },
      "execution_count": 25,
      "outputs": []
    },
    {
      "cell_type": "code",
      "source": [
        "# Emission probability matrix\n",
        "emit_prob = [\n",
        "    [0.6, 0.2, 0.1, 0.1],  # for S1 (/h/)\n",
        "    [0.1, 0.7, 0.1, 0.1],  # for S2 (/e/)\n",
        "    [0.1, 0.1, 0.6, 0.2],  # for S3 (/l/)\n",
        "    [0.2, 0.1, 0.2, 0.5]   # for S4 (/o/)\n",
        "]"
      ],
      "metadata": {
        "id": "Gew7ZmKuqt8t"
      },
      "execution_count": 26,
      "outputs": []
    },
    {
      "cell_type": "code",
      "source": [
        "# Run the Viterbi algorithm\n",
        "phoneme_sequence, prob = viterbi(observations, states, start_prob, trans_prob, emit_prob)\n"
      ],
      "metadata": {
        "id": "1ENaC84Kqyw9"
      },
      "execution_count": 27,
      "outputs": []
    },
    {
      "cell_type": "code",
      "source": [
        "# Print the results\n",
        "print(f\"The most likely sequence of phoneme states: {phoneme_sequence}\")\n",
        "print(f\"The probability of the most likely sequence: {prob:.5f}\")"
      ],
      "metadata": {
        "id": "szVv15boqukJ",
        "colab": {
          "base_uri": "https://localhost:8080/"
        },
        "outputId": "a6302818-f22e-48d0-ee1f-c91658749791"
      },
      "execution_count": 28,
      "outputs": [
        {
          "output_type": "stream",
          "name": "stdout",
          "text": [
            "The most likely sequence of phoneme states: ['h', 'e', 'l', 'o']\n",
            "The probability of the most likely sequence: 0.03704\n"
          ]
        }
      ]
    }
  ]
}